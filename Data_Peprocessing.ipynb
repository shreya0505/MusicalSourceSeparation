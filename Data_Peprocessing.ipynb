{
  "nbformat": 4,
  "nbformat_minor": 0,
  "metadata": {
    "colab": {
      "name": "Data Peprocessing.ipynb",
      "provenance": [],
      "authorship_tag": "ABX9TyOkbCxy33xnfWYfTFi7q8GI",
      "include_colab_link": true
    },
    "kernelspec": {
      "name": "python3",
      "display_name": "Python 3"
    }
  },
  "cells": [
    {
      "cell_type": "markdown",
      "metadata": {
        "id": "view-in-github",
        "colab_type": "text"
      },
      "source": [
        "<a href=\"https://colab.research.google.com/github/shreya0505/MusicalSourceSeparation/blob/master/Data_Peprocessing.ipynb\" target=\"_parent\"><img src=\"https://colab.research.google.com/assets/colab-badge.svg\" alt=\"Open In Colab\"/></a>"
      ]
    },
    {
      "cell_type": "code",
      "metadata": {
        "id": "IN25ugJK-AwM",
        "colab_type": "code",
        "outputId": "87342a66-ed7b-46d8-955e-88e96a02b62d",
        "colab": {
          "base_uri": "https://localhost:8080/",
          "height": 34
        }
      },
      "source": [
        "from google.colab import drive\n",
        "drive.mount('/content/drive')"
      ],
      "execution_count": 83,
      "outputs": [
        {
          "output_type": "stream",
          "text": [
            "Drive already mounted at /content/drive; to attempt to forcibly remount, call drive.mount(\"/content/drive\", force_remount=True).\n"
          ],
          "name": "stdout"
        }
      ]
    },
    {
      "cell_type": "code",
      "metadata": {
        "id": "G02_tv6z-dZ9",
        "colab_type": "code",
        "outputId": "fd9e10ff-1146-4d36-ffb8-3b354119affe",
        "colab": {
          "base_uri": "https://localhost:8080/",
          "height": 102
        }
      },
      "source": [
        "pip install stempeg\n",
        "pip install ffprobe\n",
        "pip install ffmpeg"
      ],
      "execution_count": 69,
      "outputs": [
        {
          "output_type": "stream",
          "text": [
            "Requirement already satisfied: stempeg in /usr/local/lib/python3.6/dist-packages (0.1.8)\n",
            "Requirement already satisfied: numpy>=1.6 in /usr/local/lib/python3.6/dist-packages (from stempeg) (1.18.4)\n",
            "Requirement already satisfied: soundfile>=0.9.0 in /usr/local/lib/python3.6/dist-packages (from stempeg) (0.10.3.post1)\n",
            "Requirement already satisfied: cffi>=1.0 in /usr/local/lib/python3.6/dist-packages (from soundfile>=0.9.0->stempeg) (1.14.0)\n",
            "Requirement already satisfied: pycparser in /usr/local/lib/python3.6/dist-packages (from cffi>=1.0->soundfile>=0.9.0->stempeg) (2.20)\n"
          ],
          "name": "stdout"
        }
      ]
    },
    {
      "cell_type": "markdown",
      "metadata": {
        "id": "WlWIieTxIIcK",
        "colab_type": "text"
      },
      "source": [
        "# Main Code"
      ]
    },
    {
      "cell_type": "code",
      "metadata": {
        "id": "b86M_UUUXCgv",
        "colab_type": "code",
        "outputId": "4055891d-6184-4803-b095-91f6efb1b988",
        "colab": {
          "base_uri": "https://localhost:8080/",
          "height": 394
        }
      },
      "source": [
        "directory = '/content/drive/My Drive/Dataset'\n",
        "import os\n",
        "import glob2 as glob\n",
        "import numpy as np\n",
        "import stempeg\n",
        "import ffmpeg\n",
        "import soundfile as sf \n",
        "\n",
        "def getMUSDBHQ(directory):\n",
        "    subsets = list()\n",
        "    for subset in [\"train1\", \"test1\"]:\n",
        "        print(\"\\n\\nLoading \" + subset + \" set...\")\n",
        "        subset_path = os.path.join(directory,subset)\n",
        "        samples = list()\n",
        "       \n",
        "        for track in os.listdir(subset_path):\n",
        "            print(\"\\nProcessing track\\t\\t\\t\", track)\n",
        "            audio_path = os.path.join(subset_path,track)\n",
        "            audio, rate = stempeg.read_stems(audio_path)\n",
        "            \n",
        "            track_name= track[:-9]\n",
        "            target_path = os.path.join(directory,\"separated\",subset,track_name)\n",
        "            if not os.path.exists(target_path):\n",
        "               os.mkdir(target_path)\n",
        "\n",
        "            example = dict()\n",
        "            i=0;\n",
        "            for stem in [\"mix\", \"drums\", \"bass\", \"others\",\"vocals\"]:\n",
        "              stem_path = os.path.join(target_path,stem + \".wav\")\n",
        "              example[stem] = stem_path\n",
        "              if not os.path.exists(stem_path):                \n",
        "                sf.write(stem_path, audio[i], rate)\n",
        "              i=i+1\n",
        "            \n",
        "\n",
        "            acc_path = stem_path = os.path.join(target_path,  \"accompaniment.wav\")\n",
        "            if not os.path.exists(acc_path):\n",
        "              acc_audio = audio[1]+audio[2]+audio[3]\n",
        "              acc_audio = np.clip((acc_audio), -1.0, 1.0)\n",
        "              sf.write(acc_path, acc_audio, rate)\n",
        "              diff_signal = np.abs(audio[0] - acc_audio - audio[4])\n",
        "              print(\"Maximum absolute deviation from source additivity constraint: \" + str(np.max(diff_signal)))\n",
        "              print(\"Mean absolute deviation from source additivity constraint:    \" + str(np.mean(diff_signal)))\n",
        "            example[\"accompaniment\"] = acc_path\n",
        "            \n",
        "            print(\" Created Dictionary: \",example)\n",
        "            samples.append(example)\n",
        "\n",
        "        subsets.append(samples)\n",
        "\n",
        "    return subsets\n",
        "\n",
        "           \n",
        "\n",
        "\n",
        "\n",
        "\n",
        "        \n",
        "subsets = getMUSDBHQ(directory)\n",
        "print(\"\\n\\nFINAL RESULT:\\n\")\n",
        "print(subsets)\n"
      ],
      "execution_count": 84,
      "outputs": [
        {
          "output_type": "stream",
          "text": [
            "\n",
            "\n",
            "Loading train1 set...\n",
            "\n",
            "Processing track\t\t\t Copy of Actions - Devil's Words.stem.mp4\n",
            "Maximum absolute deviation from source additivity constraint: 0.071533203125\n",
            "Mean absolute deviation from source additivity constraint:    0.003870910814011722\n",
            " Created Dictionary:  {'mix': \"/content/drive/My Drive/Dataset/separated/train1/Copy of Actions - Devil's Words/mix.wav\", 'drums': \"/content/drive/My Drive/Dataset/separated/train1/Copy of Actions - Devil's Words/drums.wav\", 'bass': \"/content/drive/My Drive/Dataset/separated/train1/Copy of Actions - Devil's Words/bass.wav\", 'others': \"/content/drive/My Drive/Dataset/separated/train1/Copy of Actions - Devil's Words/others.wav\", 'vocals': \"/content/drive/My Drive/Dataset/separated/train1/Copy of Actions - Devil's Words/vocals.wav\", 'accompaniment': \"/content/drive/My Drive/Dataset/separated/train1/Copy of Actions - Devil's Words/accompaniment.wav\"}\n",
            "\n",
            "\n",
            "Loading test1 set...\n",
            "\n",
            "Processing track\t\t\t Copy of Al James - Schoolboy Facination.stem.mp4\n",
            "Maximum absolute deviation from source additivity constraint: 0.077850341796875\n",
            "Mean absolute deviation from source additivity constraint:    0.0037481778983059558\n",
            " Created Dictionary:  {'mix': '/content/drive/My Drive/Dataset/separated/test1/Copy of Al James - Schoolboy Facination/mix.wav', 'drums': '/content/drive/My Drive/Dataset/separated/test1/Copy of Al James - Schoolboy Facination/drums.wav', 'bass': '/content/drive/My Drive/Dataset/separated/test1/Copy of Al James - Schoolboy Facination/bass.wav', 'others': '/content/drive/My Drive/Dataset/separated/test1/Copy of Al James - Schoolboy Facination/others.wav', 'vocals': '/content/drive/My Drive/Dataset/separated/test1/Copy of Al James - Schoolboy Facination/vocals.wav', 'accompaniment': '/content/drive/My Drive/Dataset/separated/test1/Copy of Al James - Schoolboy Facination/accompaniment.wav'}\n",
            "\n",
            "\n",
            "FINAL RESULT:\n",
            "\n",
            "[[{'mix': \"/content/drive/My Drive/Dataset/separated/train1/Copy of Actions - Devil's Words/mix.wav\", 'drums': \"/content/drive/My Drive/Dataset/separated/train1/Copy of Actions - Devil's Words/drums.wav\", 'bass': \"/content/drive/My Drive/Dataset/separated/train1/Copy of Actions - Devil's Words/bass.wav\", 'others': \"/content/drive/My Drive/Dataset/separated/train1/Copy of Actions - Devil's Words/others.wav\", 'vocals': \"/content/drive/My Drive/Dataset/separated/train1/Copy of Actions - Devil's Words/vocals.wav\", 'accompaniment': \"/content/drive/My Drive/Dataset/separated/train1/Copy of Actions - Devil's Words/accompaniment.wav\"}], [{'mix': '/content/drive/My Drive/Dataset/separated/test1/Copy of Al James - Schoolboy Facination/mix.wav', 'drums': '/content/drive/My Drive/Dataset/separated/test1/Copy of Al James - Schoolboy Facination/drums.wav', 'bass': '/content/drive/My Drive/Dataset/separated/test1/Copy of Al James - Schoolboy Facination/bass.wav', 'others': '/content/drive/My Drive/Dataset/separated/test1/Copy of Al James - Schoolboy Facination/others.wav', 'vocals': '/content/drive/My Drive/Dataset/separated/test1/Copy of Al James - Schoolboy Facination/vocals.wav', 'accompaniment': '/content/drive/My Drive/Dataset/separated/test1/Copy of Al James - Schoolboy Facination/accompaniment.wav'}]]\n"
          ],
          "name": "stdout"
        }
      ]
    },
    {
      "cell_type": "code",
      "metadata": {
        "id": "ONgC0leS0iWH",
        "colab_type": "code",
        "colab": {}
      },
      "source": [
        ""
      ],
      "execution_count": 0,
      "outputs": []
    }
  ]
}